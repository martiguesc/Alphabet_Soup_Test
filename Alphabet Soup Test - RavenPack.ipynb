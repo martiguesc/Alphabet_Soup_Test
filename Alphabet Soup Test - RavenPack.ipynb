{
 "cells": [
  {
   "cell_type": "code",
   "execution_count": 71,
   "id": "a46b3fc7",
   "metadata": {},
   "outputs": [],
   "source": [
    "import string\n",
    "import random"
   ]
  },
  {
   "cell_type": "markdown",
   "id": "2823b165",
   "metadata": {},
   "source": [
    "#### Function to build message and bowl with random content"
   ]
  },
  {
   "cell_type": "code",
   "execution_count": 72,
   "id": "42710c6d",
   "metadata": {},
   "outputs": [],
   "source": [
    "def prepare_msg(m):\n",
    "    soup = list(string.ascii_lowercase)\n",
    "    soup_list = [random.choice(soup) for n in range(m)]\n",
    "    bowl = \"\".join(soup_list)\n",
    "    return bowl"
   ]
  },
  {
   "cell_type": "markdown",
   "id": "583bd1bb",
   "metadata": {},
   "source": [
    "#### Function that checks if we can write message using soup chars"
   ]
  },
  {
   "cell_type": "markdown",
   "id": "3536e57d",
   "metadata": {},
   "source": [
    "##### We iterate over message chars. Inside the loop, we iterate over unchecked positions in soup, accumulating appearances if message char and actual soup char do not match, and checking these accumulated appearances before advancing more positions on soup chain. if we go through all the positions of soup string before the end of the for loop, we return False. The complexity of the algorithm is  O(m*s). I have added comments with the complexity broken down by lines."
   ]
  },
  {
   "cell_type": "code",
   "execution_count": 86,
   "id": "bfa978b8",
   "metadata": {},
   "outputs": [],
   "source": [
    "def msg_in_bowl(msg,bowl):\n",
    "    pos = 0    # O(1)\n",
    "    max_pos = len(bowl)    # O(2)\n",
    "    appearances = {}    # O(1)\n",
    "    for l1 in msg:    # O(m)\n",
    "        l2 = bowl[pos]    # O(2)\n",
    "        if l1==l2:    # O(1)\n",
    "            pos+=1   # O(2)\n",
    "            continue   \n",
    "        if l1 in appearances:    # O(1)\n",
    "            if appearances[l1]>0:    # O(2)\n",
    "                appearances[l1]-=1    # O(2)\n",
    "                continue    \n",
    "        else:\n",
    "            appearances[l1] = 1    # O(2)\n",
    "        while l2!=l1:    # O(s)\n",
    "            if l2 not in appearances:    # O(1)\n",
    "                appearances[l2] = 0    # O(2)\n",
    "            appearances[l2]+=1    # O(2)\n",
    "            pos+=1    # O(1)\n",
    "            if pos==max_pos:    # O(1)\n",
    "                return False    \n",
    "            l2 = bowl[pos]    # O(2)\n",
    "            \n",
    "        appearances[l1]-=1    # O(2)\n",
    "            \n",
    "    return True    \n"
   ]
  },
  {
   "cell_type": "markdown",
   "id": "22e6be67",
   "metadata": {},
   "source": [
    "#### Test"
   ]
  },
  {
   "cell_type": "code",
   "execution_count": 90,
   "id": "d5ca45a2",
   "metadata": {},
   "outputs": [
    {
     "name": "stdout",
     "output_type": "stream",
     "text": [
      "hq\n",
      "fqqyrcicblgqxlgopjjwjxuyoctpso\n",
      "False\n"
     ]
    }
   ],
   "source": [
    "str1 = prepare_msg(2)\n",
    "str2 = prepare_msg(30)\n",
    "print(str1)\n",
    "print(str2)\n",
    "resp = msg_in_bowl(str1,str2)\n",
    "print(resp)"
   ]
  },
  {
   "cell_type": "code",
   "execution_count": null,
   "id": "8d63606d",
   "metadata": {},
   "outputs": [],
   "source": []
  }
 ],
 "metadata": {
  "kernelspec": {
   "display_name": "Python 3",
   "language": "python",
   "name": "python3"
  },
  "language_info": {
   "codemirror_mode": {
    "name": "ipython",
    "version": 3
   },
   "file_extension": ".py",
   "mimetype": "text/x-python",
   "name": "python",
   "nbconvert_exporter": "python",
   "pygments_lexer": "ipython3",
   "version": "3.9.4"
  }
 },
 "nbformat": 4,
 "nbformat_minor": 5
}
